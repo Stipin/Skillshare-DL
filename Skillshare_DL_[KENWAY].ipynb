{
  "nbformat": 4,
  "nbformat_minor": 0,
  "metadata": {
    "colab": {
      "name": "Skillshare-DL [KENWAY].ipynb",
      "provenance": [],
      "collapsed_sections": [],
      "include_colab_link": true
    },
    "kernelspec": {
      "name": "python3",
      "display_name": "Python 3"
    },
    "accelerator": "GPU",
    "widgets": {
      "application/vnd.jupyter.widget-state+json": {
        "d7b1b897bce84dda940f9fe553e9287a": {
          "model_module": "@jupyter-widgets/controls",
          "model_name": "ButtonModel",
          "state": {
            "_view_name": "ButtonView",
            "style": "IPY_MODEL_72971d432b8f4809a864d302873b883b",
            "_dom_classes": [],
            "description": "Installing",
            "_model_name": "ButtonModel",
            "button_style": "warning",
            "_view_module": "@jupyter-widgets/controls",
            "_model_module_version": "1.5.0",
            "tooltip": "Installing",
            "_view_count": null,
            "disabled": true,
            "_view_module_version": "1.5.0",
            "layout": "IPY_MODEL_44c27712551a49109e79e035e18b32b3",
            "_model_module": "@jupyter-widgets/controls",
            "icon": "check"
          }
        },
        "72971d432b8f4809a864d302873b883b": {
          "model_module": "@jupyter-widgets/controls",
          "model_name": "ButtonStyleModel",
          "state": {
            "_view_name": "StyleView",
            "_model_name": "ButtonStyleModel",
            "_view_module": "@jupyter-widgets/base",
            "_model_module_version": "1.5.0",
            "_view_count": null,
            "button_color": null,
            "font_weight": "",
            "_view_module_version": "1.2.0",
            "_model_module": "@jupyter-widgets/controls"
          }
        },
        "44c27712551a49109e79e035e18b32b3": {
          "model_module": "@jupyter-widgets/base",
          "model_name": "LayoutModel",
          "state": {
            "_view_name": "LayoutView",
            "grid_template_rows": null,
            "right": null,
            "justify_content": null,
            "_view_module": "@jupyter-widgets/base",
            "overflow": null,
            "_model_module_version": "1.2.0",
            "_view_count": null,
            "flex_flow": null,
            "width": null,
            "min_width": null,
            "border": null,
            "align_items": null,
            "bottom": null,
            "_model_module": "@jupyter-widgets/base",
            "top": null,
            "grid_column": null,
            "overflow_y": null,
            "overflow_x": null,
            "grid_auto_flow": null,
            "grid_area": null,
            "grid_template_columns": null,
            "flex": null,
            "_model_name": "LayoutModel",
            "justify_items": null,
            "grid_row": null,
            "max_height": null,
            "align_content": null,
            "visibility": null,
            "align_self": null,
            "height": null,
            "min_height": null,
            "padding": null,
            "grid_auto_rows": null,
            "grid_gap": null,
            "max_width": null,
            "order": null,
            "_view_module_version": "1.2.0",
            "grid_template_areas": null,
            "object_position": null,
            "object_fit": null,
            "grid_auto_columns": null,
            "margin": null,
            "display": null,
            "left": null
          }
        }
      }
    }
  },
  "cells": [
    {
      "cell_type": "markdown",
      "metadata": {
        "id": "view-in-github",
        "colab_type": "text"
      },
      "source": [
        "<a href=\"https://colab.research.google.com/github/Stipin/Skillshare-DL/blob/master/Skillshare_DL_%5BKENWAY%5D.ipynb\" target=\"_parent\"><img src=\"https://colab.research.google.com/assets/colab-badge.svg\" alt=\"Open In Colab\"/></a>"
      ]
    },
    {
      "cell_type": "code",
      "metadata": {
        "id": "tTVkURopsAxH",
        "colab": {
          "base_uri": "https://localhost:8080/"
        },
        "outputId": "88183ba7-7365-4a9d-c8fd-5f8ccd8f97e8"
      },
      "source": [
        "#@markdown <h3>⬅ Run This Cell to  Mount Gdrive\n",
        "from google.colab import drive\n",
        "drive.mount('/content/drive')"
      ],
      "execution_count": 4,
      "outputs": [
        {
          "output_type": "stream",
          "text": [
            "Mounted at /content/drive\n"
          ],
          "name": "stdout"
        }
      ]
    },
    {
      "cell_type": "code",
      "metadata": {
        "id": "zLXd9RaFlI6R"
      },
      "source": [
        "!cd '/content/drive/Shareddrives/Courses2'"
      ],
      "execution_count": 8,
      "outputs": []
    },
    {
      "cell_type": "markdown",
      "metadata": {
        "id": "oy6NiZ-mhVFX"
      },
      "source": [
        "# <img src='https://i.imgur.com/ZLv9ul7.jpg' height=\"60\" alt=\"RcloneLab\"/>"
      ]
    },
    {
      "cell_type": "code",
      "metadata": {
        "id": "xunEYHutBEv_",
        "colab": {
          "base_uri": "https://localhost:8080/",
          "height": 82,
          "referenced_widgets": [
            "d7b1b897bce84dda940f9fe553e9287a",
            "72971d432b8f4809a864d302873b883b",
            "44c27712551a49109e79e035e18b32b3"
          ]
        },
        "outputId": "8bc63d42-2fb0-4e60-b244-080971895714"
      },
      "source": [
        "!cd '/content/drive/shared-drives/courses2'\n",
        "#@markdown <h3>⬅️ Run This Cell to Install Skillshare-DL Requirements</h3>\n",
        "import random, string, urllib.request, json, getpass, os, IPython, uuid\n",
        "import ipywidgets as widgets\n",
        "\n",
        "from IPython.display import HTML, clear_output\n",
        "\n",
        "loadingBtn = widgets.Button(description = \"Installing\",\n",
        "                          disabled = True,\n",
        "                          button_style = 'warning', # 'success', 'info', 'warning', 'danger' or '' \n",
        "                          tooltip = \"Installing\",\n",
        "                          icon = 'check')\n",
        "display(loadingBtn)\n",
        "\n",
        "if not os.path.exists(\"/opt/python3.7\"):\n",
        "  get_ipython().system_raw(\"rm -rf /content/sample_data/ && sudo apt update && sudo apt install software-properties-common\")\n",
        "  get_ipython().system_raw(\"sudo add-apt-repository ppa:deadsnakes/ppa\")\n",
        "  get_ipython().system_raw(\"sudo apt install python3.7\")\n",
        "  get_ipython().system_raw(\"sudo apt install python3-pip\")\n",
        "  get_ipython().system_raw(\"python3.7 -m pip install --upgrade pip setuptools wheel\")\n",
        "  get_ipython().system_raw(\"git clone https://github.com/calvinhobbes23/Skillshare-DL.git /root/.Skillshare-DL\")\n",
        "  get_ipython().system_raw(\"rm -r /root/.Skillshare-DL/Skillshare_DL_[KENWAY].ipynb\")\n",
        "  clear_output()\n",
        "\n",
        "try:\n",
        "  get_ipython().system_raw(\"python3.7 -m pip -q install -r /root/.Skillshare-DL/requirements.txt\")\n",
        "  display(HTML(\"<center><h2 style=\\\"font-family:Trebuchet MS;color:#4f8bd6;\\\">Successfully Configured!</h2><br></center>\"))\n",
        "  \n",
        "except:\n",
        "  display(HTML(\"<center><h2 style=\\\"font-family:Trebuchet MS;color:#ff0000;\\\">Error Occured, Rerun the Cell!!</h2><br></center>\"))"
      ],
      "execution_count": 3,
      "outputs": [
        {
          "output_type": "display_data",
          "data": {
            "text/html": [
              "<center><h2 style=\"font-family:Trebuchet MS;color:#4f8bd6;\">Successfully Configured!</h2><br></center>"
            ],
            "text/plain": [
              "<IPython.core.display.HTML object>"
            ]
          },
          "metadata": {
            "tags": []
          }
        }
      ]
    },
    {
      "cell_type": "code",
      "metadata": {
        "id": "GMcXn3WTIYfo",
        "colab": {
          "base_uri": "https://localhost:8080/"
        },
        "outputId": "4cac75ee-8bd6-4d9c-a630-466da7d0b23e"
      },
      "source": [
        "#@markdown <h3>⬅️ Run this Cell to Download Skillshare Course</h3>\n",
        "!cd '/content/drive/Shareddrives/Courses2'\n",
        "Course_Link = \"https://www.skillshare.com/classes/Basic-Skills-Getting-Started-with-Drawing/637385311?via=browse-rating-fine-art\" #@param {type:\"string\"}\n",
        "!python3.7 /root/.Skillshare-DL/dl.py \"$Course_Link\""
      ],
      "execution_count": null,
      "outputs": [
        {
          "output_type": "stream",
          "text": [
            "   \n",
            "                 ____  _    _ _ _     _                          ____  _     \n",
            "                / ___|| | _(_) | |___| |__   __ _ _ __ ___      |  _ \\| |    \n",
            "                \\___ \\| |/ / | | / __| '_ \\ / _` | '__/ _ \\_____| | | | |    \n",
            "                 ___) |   <| | | \\__ \\ | | | (_| | | |  __/_____| |_| | |___ \n",
            "                |____/|_|\\_\\_|_|_|___/_| |_|\\__,_|_|  \\___|     |____/|_____|  \n",
            "                     _ __ ___  _ _  _ _ _  ___  _ _ \n",
            "                    | / /| __>| \\ || | | || . || | |\n",
            "                    |  \\ | _> |   || | | ||   |\\   /\n",
            "                    |_\\_\\|___>|_\\_||__/_/ |_|_| |_| \n",
            "\n",
            "                Visit Us for more Cool Stuff: https://blackpearl.biz/\n",
            "\n",
            "                \n",
            "Downloading /content/Skillshare/artandscienceofdrawing/basic-skills-getting-started-with-drawing/01 - introduction-to-basic-skills.mp4...\n",
            "[==================================================]\n",
            "\n",
            "Downloading /content/Skillshare/artandscienceofdrawing/basic-skills-getting-started-with-drawing/02 - how-to-begin.mp4...\n",
            "[==================================================]\n",
            "\n",
            "Downloading /content/Skillshare/artandscienceofdrawing/basic-skills-getting-started-with-drawing/03 - circles-ovals.mp4...\n",
            "[==================================================]\n",
            "\n",
            "Downloading /content/Skillshare/artandscienceofdrawing/basic-skills-getting-started-with-drawing/04 - straight-lines-the-shapes-they-make.mp4...\n",
            "[==================================================]\n",
            "\n",
            "Downloading /content/Skillshare/artandscienceofdrawing/basic-skills-getting-started-with-drawing/05 - charting-the-course-of-curved-lines.mp4...\n",
            "[==================================================]\n",
            "\n",
            "Downloading /content/Skillshare/artandscienceofdrawing/basic-skills-getting-started-with-drawing/06 - putting-it-all-together.mp4...\n",
            "[==================================================]\n",
            "\n",
            "Downloading /content/Skillshare/artandscienceofdrawing/basic-skills-getting-started-with-drawing/07 - scrub-jay-demo-pt-1-simplifying-shapes.mp4...\n",
            "[==================================================]\n",
            "\n",
            "Downloading /content/Skillshare/artandscienceofdrawing/basic-skills-getting-started-with-drawing/08 - scrub-jay-demo-pt-2-adding-detail.mp4...\n",
            "[==================================================]\n",
            "\n",
            "Downloading /content/Skillshare/artandscienceofdrawing/basic-skills-getting-started-with-drawing/09 - scrub-jay-demo-pt-3-finishing-the-drawing.mp4...\n",
            "[==================================================]\n",
            "\n",
            "Downloading /content/Skillshare/artandscienceofdrawing/basic-skills-getting-started-with-drawing/10 - botanical-demo-pt-1-basic-shapes.mp4...\n",
            "[==================================================]\n",
            "\n",
            "Downloading /content/Skillshare/artandscienceofdrawing/basic-skills-getting-started-with-drawing/11 - botanical-demo-pt-2-texture-detail.mp4...\n",
            "[==================================================]\n",
            "\n",
            "Downloading /content/Skillshare/artandscienceofdrawing/basic-skills-getting-started-with-drawing/12 - botanical-demo-pt-3-finishing-the-drawing.mp4...\n",
            "[==================================================]\n",
            "\n",
            "Downloading /content/Skillshare/artandscienceofdrawing/basic-skills-getting-started-with-drawing/13 - figure-drawing-demo-pt-1-gesture-basic-shapes.mp4...\n",
            "[=============                                     ]"
          ],
          "name": "stdout"
        }
      ]
    },
    {
      "cell_type": "code",
      "metadata": {
        "id": "W4DvOJaqsGaj"
      },
      "source": [
        "#@markdown <h3>⬅️ Run This Cell to  Move Downloaded Courses to Gdrive\n",
        "!mv /content/Skillshare \"/content/drive/Shareddrives/Courses2\""
      ],
      "execution_count": 40,
      "outputs": []
    }
  ]
}